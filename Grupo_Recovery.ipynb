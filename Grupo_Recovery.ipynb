{
  "nbformat": 4,
  "nbformat_minor": 0,
  "metadata": {
    "colab": {
      "name": "Grupo Recovery",
      "provenance": [],
      "authorship_tag": "ABX9TyNybSuiGuOyFdByEce+a9aQ",
      "include_colab_link": true
    },
    "kernelspec": {
      "name": "python3",
      "display_name": "Python 3"
    }
  },
  "cells": [
    {
      "cell_type": "markdown",
      "metadata": {
        "id": "view-in-github",
        "colab_type": "text"
      },
      "source": [
        "<a href=\"https://colab.research.google.com/github/andreventura02/Data_science/blob/master/Grupo_Recovery.ipynb\" target=\"_parent\"><img src=\"https://colab.research.google.com/assets/colab-badge.svg\" alt=\"Open In Colab\"/></a>"
      ]
    },
    {
      "cell_type": "code",
      "metadata": {
        "id": "yMyTLwTtfRWM",
        "colab_type": "code",
        "colab": {
          "base_uri": "https://localhost:8080/",
          "height": 402
        },
        "outputId": "34f1af95-bd26-49d6-fe6f-cfbc8da793e2"
      },
      "source": [
        "#QUESTÃO 1\n",
        "df"
      ],
      "execution_count": null,
      "outputs": [
        {
          "output_type": "execute_result",
          "data": {
            "text/html": [
              "<div>\n",
              "<style scoped>\n",
              "    .dataframe tbody tr th:only-of-type {\n",
              "        vertical-align: middle;\n",
              "    }\n",
              "\n",
              "    .dataframe tbody tr th {\n",
              "        vertical-align: top;\n",
              "    }\n",
              "\n",
              "    .dataframe thead th {\n",
              "        text-align: right;\n",
              "    }\n",
              "</style>\n",
              "<table border=\"1\" class=\"dataframe\">\n",
              "  <thead>\n",
              "    <tr style=\"text-align: right;\">\n",
              "      <th></th>\n",
              "      <th>CLIENTE</th>\n",
              "      <th>CONTRATO</th>\n",
              "      <th>SALDO DA DÍVIDA</th>\n",
              "      <th>DIAS EM ATRASO</th>\n",
              "      <th>UF</th>\n",
              "      <th>IDADE</th>\n",
              "    </tr>\n",
              "  </thead>\n",
              "  <tbody>\n",
              "    <tr>\n",
              "      <th>0</th>\n",
              "      <td>A</td>\n",
              "      <td>C1</td>\n",
              "      <td>500,00</td>\n",
              "      <td>1.161</td>\n",
              "      <td>SP</td>\n",
              "      <td>25.0</td>\n",
              "    </tr>\n",
              "    <tr>\n",
              "      <th>1</th>\n",
              "      <td>H</td>\n",
              "      <td>C2</td>\n",
              "      <td>1.500,00</td>\n",
              "      <td>1.507</td>\n",
              "      <td>SP</td>\n",
              "      <td>66.0</td>\n",
              "    </tr>\n",
              "    <tr>\n",
              "      <th>2</th>\n",
              "      <td>H</td>\n",
              "      <td>C3</td>\n",
              "      <td>234,00</td>\n",
              "      <td>2.272</td>\n",
              "      <td>SP</td>\n",
              "      <td>66.0</td>\n",
              "    </tr>\n",
              "    <tr>\n",
              "      <th>3</th>\n",
              "      <td>A</td>\n",
              "      <td>C4</td>\n",
              "      <td>350,00</td>\n",
              "      <td>1.808</td>\n",
              "      <td>SP</td>\n",
              "      <td>25.0</td>\n",
              "    </tr>\n",
              "    <tr>\n",
              "      <th>4</th>\n",
              "      <td>C</td>\n",
              "      <td>C5</td>\n",
              "      <td>10.450,00</td>\n",
              "      <td>5.295</td>\n",
              "      <td>BA</td>\n",
              "      <td>45.0</td>\n",
              "    </tr>\n",
              "    <tr>\n",
              "      <th>...</th>\n",
              "      <td>...</td>\n",
              "      <td>...</td>\n",
              "      <td>...</td>\n",
              "      <td>...</td>\n",
              "      <td>...</td>\n",
              "      <td>...</td>\n",
              "    </tr>\n",
              "    <tr>\n",
              "      <th>56</th>\n",
              "      <td>B</td>\n",
              "      <td>C57</td>\n",
              "      <td>3.789,00</td>\n",
              "      <td>1.875</td>\n",
              "      <td>MG</td>\n",
              "      <td>30.0</td>\n",
              "    </tr>\n",
              "    <tr>\n",
              "      <th>57</th>\n",
              "      <td>E</td>\n",
              "      <td>C58</td>\n",
              "      <td>26.000,00</td>\n",
              "      <td>3.894</td>\n",
              "      <td>AP</td>\n",
              "      <td>60.0</td>\n",
              "    </tr>\n",
              "    <tr>\n",
              "      <th>58</th>\n",
              "      <td>B</td>\n",
              "      <td>C59</td>\n",
              "      <td>2.348,00</td>\n",
              "      <td>2.599</td>\n",
              "      <td>MG</td>\n",
              "      <td>30.0</td>\n",
              "    </tr>\n",
              "    <tr>\n",
              "      <th>59</th>\n",
              "      <td>H</td>\n",
              "      <td>C60</td>\n",
              "      <td>800,00</td>\n",
              "      <td>582.000</td>\n",
              "      <td>SP</td>\n",
              "      <td>66.0</td>\n",
              "    </tr>\n",
              "    <tr>\n",
              "      <th>60</th>\n",
              "      <td>NaN</td>\n",
              "      <td>NaN</td>\n",
              "      <td>400.659,57</td>\n",
              "      <td>NaN</td>\n",
              "      <td>SP</td>\n",
              "      <td>NaN</td>\n",
              "    </tr>\n",
              "  </tbody>\n",
              "</table>\n",
              "<p>61 rows × 6 columns</p>\n",
              "</div>"
            ],
            "text/plain": [
              "   CLIENTE CONTRATO SALDO DA DÍVIDA  DIAS EM ATRASO  UF  IDADE\n",
              "0        A       C1         500,00            1.161  SP   25.0\n",
              "1        H       C2       1.500,00            1.507  SP   66.0\n",
              "2        H       C3         234,00            2.272  SP   66.0\n",
              "3        A       C4         350,00            1.808  SP   25.0\n",
              "4        C       C5      10.450,00            5.295  BA   45.0\n",
              "..     ...      ...             ...             ...  ..    ...\n",
              "56       B      C57       3.789,00            1.875  MG   30.0\n",
              "57       E      C58      26.000,00            3.894  AP   60.0\n",
              "58       B      C59       2.348,00            2.599  MG   30.0\n",
              "59       H      C60         800,00          582.000  SP   66.0\n",
              "60     NaN      NaN     400.659,57              NaN  SP    NaN\n",
              "\n",
              "[61 rows x 6 columns]"
            ]
          },
          "metadata": {
            "tags": []
          },
          "execution_count": 169
        }
      ]
    },
    {
      "cell_type": "code",
      "metadata": {
        "id": "ZNmbbpZEgDIM",
        "colab_type": "code",
        "colab": {}
      },
      "source": [
        "#QUESTÃO 2\n",
        "E 15 H 13 C 10 F 8 B 6 A 5 D 2 G 1"
      ],
      "execution_count": null,
      "outputs": []
    },
    {
      "cell_type": "code",
      "metadata": {
        "id": "IyIvEDS5ggsC",
        "colab_type": "code",
        "colab": {
          "base_uri": "https://localhost:8080/",
          "height": 284
        },
        "outputId": "5de7619b-dba5-4ee0-8a9d-1988cc697373"
      },
      "source": [
        "#QUESTÃO 3\n",
        "clientes"
      ],
      "execution_count": null,
      "outputs": [
        {
          "output_type": "execute_result",
          "data": {
            "text/html": [
              "<div>\n",
              "<style scoped>\n",
              "    .dataframe tbody tr th:only-of-type {\n",
              "        vertical-align: middle;\n",
              "    }\n",
              "\n",
              "    .dataframe tbody tr th {\n",
              "        vertical-align: top;\n",
              "    }\n",
              "\n",
              "    .dataframe thead th {\n",
              "        text-align: right;\n",
              "    }\n",
              "</style>\n",
              "<table border=\"1\" class=\"dataframe\">\n",
              "  <thead>\n",
              "    <tr style=\"text-align: right;\">\n",
              "      <th></th>\n",
              "      <th>CLIENTE</th>\n",
              "      <th>TOTAL DIVIDA</th>\n",
              "      <th>MEDIA DE ATRASO</th>\n",
              "    </tr>\n",
              "  </thead>\n",
              "  <tbody>\n",
              "    <tr>\n",
              "      <th>0</th>\n",
              "      <td>A</td>\n",
              "      <td>19810.75</td>\n",
              "      <td>1768</td>\n",
              "    </tr>\n",
              "    <tr>\n",
              "      <th>1</th>\n",
              "      <td>B</td>\n",
              "      <td>35721.21</td>\n",
              "      <td>1697</td>\n",
              "    </tr>\n",
              "    <tr>\n",
              "      <th>2</th>\n",
              "      <td>C</td>\n",
              "      <td>63975.09</td>\n",
              "      <td>1794</td>\n",
              "    </tr>\n",
              "    <tr>\n",
              "      <th>3</th>\n",
              "      <td>D</td>\n",
              "      <td>7479.11</td>\n",
              "      <td>784</td>\n",
              "    </tr>\n",
              "    <tr>\n",
              "      <th>4</th>\n",
              "      <td>E</td>\n",
              "      <td>103532.17</td>\n",
              "      <td>1586</td>\n",
              "    </tr>\n",
              "    <tr>\n",
              "      <th>5</th>\n",
              "      <td>F</td>\n",
              "      <td>59704.21</td>\n",
              "      <td>1854</td>\n",
              "    </tr>\n",
              "    <tr>\n",
              "      <th>6</th>\n",
              "      <td>G</td>\n",
              "      <td>12071.46</td>\n",
              "      <td>3177</td>\n",
              "    </tr>\n",
              "    <tr>\n",
              "      <th>7</th>\n",
              "      <td>H</td>\n",
              "      <td>98365.56</td>\n",
              "      <td>1683</td>\n",
              "    </tr>\n",
              "  </tbody>\n",
              "</table>\n",
              "</div>"
            ],
            "text/plain": [
              "  CLIENTE  TOTAL DIVIDA  MEDIA DE ATRASO\n",
              "0       A      19810.75             1768\n",
              "1       B      35721.21             1697\n",
              "2       C      63975.09             1794\n",
              "3       D       7479.11              784\n",
              "4       E     103532.17             1586\n",
              "5       F      59704.21             1854\n",
              "6       G      12071.46             3177\n",
              "7       H      98365.56             1683"
            ]
          },
          "metadata": {
            "tags": []
          },
          "execution_count": 171
        }
      ]
    },
    {
      "cell_type": "code",
      "metadata": {
        "id": "8QPKz7ebhn4U",
        "colab_type": "code",
        "colab": {}
      },
      "source": [
        "#QUESTAO 4\n",
        "- 1732.67\n",
        "- 130247.76\n",
        "- 1697.92"
      ],
      "execution_count": null,
      "outputs": []
    },
    {
      "cell_type": "code",
      "metadata": {
        "id": "olz5IRExk44s",
        "colab_type": "code",
        "colab": {}
      },
      "source": [
        "#QUESTAO 5\n",
        "- 56735.883\n",
        "- 14.16%\n",
        "- 13526.813"
      ],
      "execution_count": null,
      "outputs": []
    }
  ]
}